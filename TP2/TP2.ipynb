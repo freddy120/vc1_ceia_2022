{
 "cells": [
  {
   "cell_type": "markdown",
   "id": "b7f0f508",
   "metadata": {},
   "source": [
    "## TP2\n",
    "\n",
    "Para la imagen suministrada “metal grid ”. Implementar un algoritmo\n",
    "1. Calcule los gradientes en la imagen (dirección y módulo)\n",
    "2. Muestre imágenes de ángulo y módulo\n",
    "3. Marque con color las direcciones de gradientes más altos\n",
    "\n"
   ]
  }
 ],
 "metadata": {
  "kernelspec": {
   "display_name": "Python 3 (ipykernel)",
   "language": "python",
   "name": "python3"
  },
  "language_info": {
   "codemirror_mode": {
    "name": "ipython",
    "version": 3
   },
   "file_extension": ".py",
   "mimetype": "text/x-python",
   "name": "python",
   "nbconvert_exporter": "python",
   "pygments_lexer": "ipython3",
   "version": "3.7.13"
  }
 },
 "nbformat": 4,
 "nbformat_minor": 5
}
