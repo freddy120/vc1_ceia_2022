{
 "cells": [
  {
   "cell_type": "markdown",
   "id": "33f7538b",
   "metadata": {},
   "source": [
    "## TP4\n",
    "Para las imágenes suministradas\n",
    "1. Implementar un extractor de características LBP básico (sin uniformidad, 8 vecinos)\n",
    "2. Realizar el histograma de características LBP de la imagen\n",
    "3. Comparar los histogramas"
   ]
  }
 ],
 "metadata": {
  "kernelspec": {
   "display_name": "Python 3 (ipykernel)",
   "language": "python",
   "name": "python3"
  },
  "language_info": {
   "codemirror_mode": {
    "name": "ipython",
    "version": 3
   },
   "file_extension": ".py",
   "mimetype": "text/x-python",
   "name": "python",
   "nbconvert_exporter": "python",
   "pygments_lexer": "ipython3",
   "version": "3.7.13"
  }
 },
 "nbformat": 4,
 "nbformat_minor": 5
}
