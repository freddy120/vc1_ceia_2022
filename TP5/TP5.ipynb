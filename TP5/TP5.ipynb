{
 "cells": [
  {
   "cell_type": "markdown",
   "id": "eb707df7",
   "metadata": {},
   "source": [
    "## TP5\n",
    "Para una imagen de su elección\n",
    "1. Construir un espacio de características basado en color\n",
    "2. Construir un espacio de características basado en color y posición\n",
    "Ejemplo ത 𝑋=(𝑅,𝐺,𝐵,𝑥,𝑦)(pueden experimentar con otros espacios de\n",
    "color o usar escala de grises)\n",
    "3. Graficar la distribución de características para ambos espacios\n",
    "4. Obtener la imagen posterizada y las mascaras correspondientes a cada\n",
    "clase, utilizando k means con asignación aleatoria de centroides, para\n",
    "ambos espacios de características\n",
    "5. Comparar todos los resultados obtenidos"
   ]
  }
 ],
 "metadata": {
  "kernelspec": {
   "display_name": "Python 3 (ipykernel)",
   "language": "python",
   "name": "python3"
  },
  "language_info": {
   "codemirror_mode": {
    "name": "ipython",
    "version": 3
   },
   "file_extension": ".py",
   "mimetype": "text/x-python",
   "name": "python",
   "nbconvert_exporter": "python",
   "pygments_lexer": "ipython3",
   "version": "3.7.13"
  }
 },
 "nbformat": 4,
 "nbformat_minor": 5
}
