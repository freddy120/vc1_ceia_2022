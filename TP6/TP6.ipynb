{
 "cells": [
  {
   "cell_type": "markdown",
   "id": "33e8ffeb",
   "metadata": {},
   "source": [
    "## TP6\n",
    "\n",
    "Una empresa de transporte quiere monitorear la actividad de sus conductores durante el manejo Para ello se propone implementar\n",
    "un detector de somnolencia en tiempo real tomando como datos de entrada frames provenientes de una cámara que apunta al rosto\n",
    "del conductor\n",
    "\n",
    "1. Implementar un detector Haar de caras (vista frontal)\n",
    "\n",
    "2. En esa ROI detectar los ojos (Se puede usar otro detector Haar\n",
    "\n",
    "3. Mediante alguna de las técnicas vistas en clase detectar si ambos ojos están abiertos o cerrados y mostrar el estado de la detección sobre el frame\n"
   ]
  },
  {
   "cell_type": "code",
   "execution_count": 28,
   "id": "4f1b3db9",
   "metadata": {},
   "outputs": [
    {
     "name": "stdout",
     "output_type": "stream",
     "text": [
      "Using matplotlib backend: Qt5Agg\n"
     ]
    }
   ],
   "source": [
    "#Si queremos que las imágenes sean mostradas en una ventana emergente quitar el inline\n",
    "# %matplotlib inline\n",
    "%matplotlib\n",
    "\n",
    "# Importamos las librerías necesarias\n",
    "import numpy as np\n",
    "import cv2 as cv\n",
    "import matplotlib.pyplot as plt"
   ]
  },
  {
   "cell_type": "code",
   "execution_count": 4,
   "id": "1699b3f6",
   "metadata": {},
   "outputs": [],
   "source": [
    "face_cascade = cv.CascadeClassifier('haarcascade_frontalface_alt.xml')\n",
    "eye_cascade = cv.CascadeClassifier('haarcascade_eye_tree_eyeglasses.xml')"
   ]
  },
  {
   "cell_type": "code",
   "execution_count": 26,
   "id": "bc9a896f",
   "metadata": {},
   "outputs": [],
   "source": [
    "\n",
    "cap = cv.VideoCapture(1)\n",
    "selected_roi = False\n",
    "show_track = True\n",
    "\n",
    "fourcc = cv2.VideoWriter_fourcc(*'MP4V')\n",
    "out = cv2.VideoWriter('output.mp4', fourcc, 5, (int(cap.get(3)), int(cap.get(4))))\n",
    "\n",
    "counter_no_eyes = 0\n",
    "centers = list()\n",
    "while(1):\n",
    "\n",
    "    # 480 x 640\n",
    "    ret ,frame = cap.read()\n",
    "\n",
    "    if ret:\n",
    "          \n",
    "        gray = cv.cvtColor(frame, cv.COLOR_BGR2GRAY)\n",
    "        #gray = cv.equalizeHist(gray)\n",
    "\n",
    "        # Detect faces in the image\n",
    "        faces = face_cascade.detectMultiScale(gray, 1.1, minNeighbors=5)#, minSize= (100,130),maxSize=(200,400))\n",
    "\n",
    "        if len(faces) > 0:\n",
    "            for (x,y,w,h) in faces:\n",
    "                # Le dibujamos un rectángulo amarillo\n",
    "                cv.rectangle(frame,(x,y),(x+w,y+h),(255,255,0),2)\n",
    "                # Definimos las ROIs en la imagen gris y color\n",
    "                roi_gray = gray[y:y+h, x:x+w] \n",
    "                roi_color = frame[y:y+h, x:x+w] \n",
    "                # Para cada rostro hallado le buscamos los ojos\n",
    "                eyes = eye_cascade.detectMultiScale(roi_gray, 1.2, 8)\n",
    "                # En los ojos hallados les dibujamos rectángulos\n",
    "                for (ex,ey,ew,eh) in eyes:\n",
    "                    cv.rectangle(roi_color,(ex,ey),(ex+ew,ey+eh),(0,255,0),2)\n",
    "                if len(eyes) == 0:\n",
    "                    cv.putText(frame, 'Sin ojos', (20, 30), cv.FONT_HERSHEY_SIMPLEX, 1, (255, 0, 0), 2, cv.LINE_AA)\n",
    "                    #print('Ambos ojos cerrados')\n",
    "                    cv.putText(frame, 'Ambos ojos cerrados', (20, 100), cv.FONT_HERSHEY_SIMPLEX, 1, (255, 0, 0), 2, cv.LINE_AA)\n",
    "                else:                        \n",
    "                    cv.putText(frame, f'# Ojos abiertos={len(eyes)}', (20, 30), cv.FONT_HERSHEY_SIMPLEX, 1, (255, 0, 0), 2, cv.LINE_AA)\n",
    "                \n",
    "         \n",
    "\n",
    "        cv.imshow('Face Recognition', frame)\n",
    "        out.write(frame)\n",
    "        \n",
    "        key = cv.waitKey(50) & 0xFF\n",
    "            \n",
    "        if key == ord(\"q\"):\n",
    "            break\n",
    "    else:\n",
    "        break\n",
    "\n",
    "cv.destroyAllWindows()\n",
    "out.release()\n",
    "cap.release()"
   ]
  }
 ],
 "metadata": {
  "kernelspec": {
   "display_name": "Python 3 (ipykernel)",
   "language": "python",
   "name": "python3"
  },
  "language_info": {
   "codemirror_mode": {
    "name": "ipython",
    "version": 3
   },
   "file_extension": ".py",
   "mimetype": "text/x-python",
   "name": "python",
   "nbconvert_exporter": "python",
   "pygments_lexer": "ipython3",
   "version": "3.7.13"
  }
 },
 "nbformat": 4,
 "nbformat_minor": 5
}
