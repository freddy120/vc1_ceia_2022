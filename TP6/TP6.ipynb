{
 "cells": [
  {
   "cell_type": "markdown",
   "id": "33e8ffeb",
   "metadata": {},
   "source": [
    "## TP6\n",
    "\n",
    "Una empresa de transporte quiere monitorear la actividad de sus conductores durante el manejo Para ello se propone implementar\n",
    "un detector de somnolencia en tiempo real tomando como datos de entrada frames provenientes de una cámara que apunta al rosto\n",
    "del conductor\n",
    "\n",
    "1. Implementar un detector Haar de caras (vista frontal)\n",
    "\n",
    "2. En esa ROI detectar los ojos (Se puede usar otro detector Haar\n",
    "\n",
    "3. Mediante alguna de las técnicas vistas en clase detectar si ambos ojos están abiertos o cerrados y mostrar el estado de la detección sobre el frame\n"
   ]
  }
 ],
 "metadata": {
  "kernelspec": {
   "display_name": "Python 3 (ipykernel)",
   "language": "python",
   "name": "python3"
  },
  "language_info": {
   "codemirror_mode": {
    "name": "ipython",
    "version": 3
   },
   "file_extension": ".py",
   "mimetype": "text/x-python",
   "name": "python",
   "nbconvert_exporter": "python",
   "pygments_lexer": "ipython3",
   "version": "3.7.13"
  }
 },
 "nbformat": 4,
 "nbformat_minor": 5
}
