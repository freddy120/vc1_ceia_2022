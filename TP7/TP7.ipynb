{
 "cells": [
  {
   "cell_type": "markdown",
   "id": "33e8ffeb",
   "metadata": {},
   "source": [
    "## TP7\n",
    "\n",
    "\n",
    "* Implementar el detector de fondo naive usando la mediana como\n",
    "estimador El algoritmo debe recibir el parámetro N (cantidad de\n",
    "frames utilizados para la estimación) y el intervalo de tiempo para\n",
    "recalcular el fondo\n",
    "* Se deben generar las mascaras de foreground y aplicarlas a los frames\n",
    "para segmentar los objetos en movimiento\n",
    "* Comparar con alguno de los métodos vistos en la practica basados en\n",
    "mezcla de gaussiana s\n"
   ]
  },
  {
   "cell_type": "code",
   "execution_count": 2,
   "id": "32fe5bde",
   "metadata": {},
   "outputs": [
    {
     "name": "stdout",
     "output_type": "stream",
     "text": [
      "Using matplotlib backend: Qt5Agg\n"
     ]
    }
   ],
   "source": [
    "#Si queremos que las imágenes sean mostradas en una ventana emergente quitar el inline\n",
    "# %matplotlib inline\n",
    "%matplotlib\n",
    "\n",
    "# Importamos las librerías necesarias\n",
    "import numpy as np\n",
    "import cv2 as cv\n",
    "import matplotlib.pyplot as plt"
   ]
  }
 ],
 "metadata": {
  "kernelspec": {
   "display_name": "Python 3 (ipykernel)",
   "language": "python",
   "name": "python3"
  },
  "language_info": {
   "codemirror_mode": {
    "name": "ipython",
    "version": 3
   },
   "file_extension": ".py",
   "mimetype": "text/x-python",
   "name": "python",
   "nbconvert_exporter": "python",
   "pygments_lexer": "ipython3",
   "version": "3.7.13"
  }
 },
 "nbformat": 4,
 "nbformat_minor": 5
}
